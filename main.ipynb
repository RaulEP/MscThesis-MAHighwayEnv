{
 "cells": [
  {
   "cell_type": "code",
   "execution_count": 1,
   "metadata": {},
   "outputs": [
    {
     "name": "stderr",
     "output_type": "stream",
     "text": [
      "c:\\ProgramData\\Anaconda3\\envs\\HighwayEnv\\lib\\site-packages\\gym\\core.py:330: DeprecationWarning: \u001b[33mWARN: Initializing wrapper in old step API which returns one bool instead of two. It is recommended to set `new_step_api=True` to use new step API. This will be the default behaviour in future.\u001b[0m\n",
      "  \"Initializing wrapper in old step API which returns one bool instead of two. It is recommended to set `new_step_api=True` to use new step API. This will be the default behaviour in future.\"\n",
      "c:\\ProgramData\\Anaconda3\\envs\\HighwayEnv\\lib\\site-packages\\gym\\utils\\passive_env_checker.py:32: UserWarning: \u001b[33mWARN: A Box observation space has an unconventional shape (neither an image, nor a 1D vector). We recommend flattening the observation to have only a 1D vector or use a custom policy to properly process the data. Actual observation shape: (5, 5)\u001b[0m\n",
      "  \"A Box observation space has an unconventional shape (neither an image, nor a 1D vector). \"\n",
      "c:\\ProgramData\\Anaconda3\\envs\\HighwayEnv\\lib\\site-packages\\gym\\wrappers\\step_api_compatibility.py:40: DeprecationWarning: \u001b[33mWARN: Initializing environment in old step API which returns one bool instead of two. It is recommended to set `new_step_api=True` to use new step API. This will be the default behaviour in future.\u001b[0m\n",
      "  \"Initializing environment in old step API which returns one bool instead of two. It is recommended to set `new_step_api=True` to use new step API. This will be the default behaviour in future.\"\n"
     ]
    },
    {
     "name": "stdout",
     "output_type": "stream",
     "text": [
      "(array([[ 1.        ,  1.        ,  0.6666667 ,  0.3125    ,  0.        ],\n",
      "       [ 1.        ,  0.10451003, -0.33333334, -0.02887931,  0.        ],\n",
      "       [ 1.        ,  0.23779099, -0.6666667 , -0.03699712,  0.        ],\n",
      "       [ 1.        ,  0.36057743,  0.        , -0.05333721,  0.        ],\n",
      "       [ 1.        ,  0.48616242, -0.6666667 , -0.02385702,  0.        ]],\n",
      "      dtype=float32), 4.0, False, {'speed': 25.0, 'crashed': False, 'action': 1, 'rewards': {'~collision_penalty': 1, '~lane change penalty': 0, '~sudden aceleration penalty': 0, '~target speed reward': 1, '~target lane reward': 1, 'on_road_reward': 1.0}})\n"
     ]
    }
   ],
   "source": [
    "import gym\n",
    "import highway_env\n",
    "import matplotlib.pyplot as plt \n",
    "from stable_baselines3 import DQN\n",
    "\n",
    "env = gym.make('ma-highway-v0')\n"
   ]
  },
  {
   "cell_type": "code",
   "execution_count": 11,
   "metadata": {},
   "outputs": [
    {
     "name": "stdout",
     "output_type": "stream",
     "text": [
      "The observation space: Box(-inf, inf, (5, 5), float32)\n",
      "The action space: Discrete(5)\n"
     ]
    }
   ],
   "source": [
    "obs_space = env.observation_space\n",
    "action_space = env.action_space\n",
    "print(\"The observation space: {}\".format(obs_space))\n",
    "print(\"The action space: {}\".format(action_space))\n"
   ]
  },
  {
   "cell_type": "code",
   "execution_count": 3,
   "metadata": {},
   "outputs": [
    {
     "name": "stdout",
     "output_type": "stream",
     "text": [
      "array([[-0.24781735, -0.89376765,  0.5502368 ,  0.386194  , -0.23347892],\n",
      "       [-1.1975341 , -0.8934713 , -1.0350403 , -0.30027187,  0.33148178],\n",
      "       [-0.0183775 ,  2.9464455 , -0.7097694 , -1.6262903 ,  0.78689456],\n",
      "       [-1.5658585 ,  0.4565787 ,  0.20267242, -0.88431674, -2.4059784 ],\n",
      "       [-0.82652104,  0.69788367,  0.47182578,  0.19536518, -0.35112184]],\n",
      "      dtype=float32)\n"
     ]
    }
   ],
   "source": [
    "from pprint import pprint as pp\n",
    "\n",
    "pp(env.observation_space.sample())"
   ]
  },
  {
   "cell_type": "code",
   "execution_count": 4,
   "metadata": {},
   "outputs": [
    {
     "name": "stderr",
     "output_type": "stream",
     "text": [
      "c:\\ProgramData\\Anaconda3\\envs\\HighwayEnv\\lib\\site-packages\\gym\\core.py:52: DeprecationWarning: \u001b[33mWARN: The argument mode in render method is deprecated; use render_mode during environment initialization instead.\n",
      "See here for more information: https://www.gymlibrary.ml/content/api/\u001b[0m\n",
      "  \"The argument mode in render method is deprecated; \"\n",
      "c:\\ProgramData\\Anaconda3\\envs\\HighwayEnv\\lib\\site-packages\\gym\\utils\\passive_env_checker.py:298: UserWarning: \u001b[33mWARN: No render fps was declared in the environment (env.metadata['render_fps'] is None or not defined), rendering may occur at inconsistent fps.\u001b[0m\n",
      "  \"No render fps was declared in the environment (env.metadata['render_fps'] is None or not defined), rendering may occur at inconsistent fps.\"\n"
     ]
    },
    {
     "data": {
      "text/plain": [
       "<matplotlib.image.AxesImage at 0x1fa2dc1c408>"
      ]
     },
     "execution_count": 4,
     "metadata": {},
     "output_type": "execute_result"
    },
    {
     "data": {
      "image/png": "[encoded data removed]",
      "text/plain": [
       "<Figure size 640x480 with 1 Axes>"
      ]
     },
     "metadata": {},
     "output_type": "display_data"
    }
   ],
   "source": [
    "import matplotlib.pyplot as plt \n",
    "\n",
    "env_screen = env.render(mode = 'rgb_array')\n",
    "env.close()\n",
    "plt.imshow(env_screen)"
   ]
  },
  {
   "cell_type": "code",
   "execution_count": 10,
   "metadata": {},
   "outputs": [],
   "source": [
    "env.configure({'simulation_frequency':20, 'show_trajectories':False, 'initial_lane_id':1, 'duration':10, 'vehicles_density':1, 'ego_spacing':1})\n",
    "\n",
    "\n",
    "for trials in range(10):\n",
    "        done = False\n",
    "        obs = env.reset()\n",
    "        while not done:\n",
    "            # Predict\n",
    "            random_action = env.action_space.sample()\n",
    "            # Get reward\n",
    "            obs, reward, done, info = env.step(random_action)\n",
    "            # Render\n",
    "            env.render()\n",
    "env.close()"
   ]
  },
  {
   "cell_type": "code",
   "execution_count": 14,
   "metadata": {},
   "outputs": [
    {
     "name": "stdout",
     "output_type": "stream",
     "text": [
      "[array([[ 1.0000000e+00,  1.0000000e+00,  6.6666669e-01,  2.4969254e-01,\n",
      "         4.8077764e-11],\n",
      "       [ 1.0000000e+00,  9.7593823e-03, -3.3333334e-01,  5.8310926e-03,\n",
      "        -5.4176885e-11],\n",
      "       [ 1.0000000e+00,  2.5000000e-02, -1.6314361e-10, -2.4297187e-01,\n",
      "        -4.8077764e-11],\n",
      "       [ 1.0000000e+00,  3.6027530e-01, -5.7516780e-10, -2.2051435e-02,\n",
      "        -4.8077764e-11],\n",
      "       [ 1.0000000e+00,  4.3860507e-01, -6.6666669e-01,  3.3753812e-02,\n",
      "        -4.8077764e-11]], dtype=float32),\n",
      " 1.0,\n",
      " True,\n",
      " {'TimeLimit.truncated': False,\n",
      "  'action': 1,\n",
      "  'crashed': True,\n",
      "  'rewards': {'on_road_reward': 1.0,\n",
      "              '~collision_penalty': -1,\n",
      "              '~lane change penalty': 0,\n",
      "              '~sudden aceleration penalty': 0,\n",
      "              '~target lane reward': 1,\n",
      "              '~target speed reward': 0},\n",
      "  'speed': 19.975403806219123}]\n",
      "[array([[ 1.0000000e+00,  1.0000000e+00,  6.6666669e-01,  2.4988978e-01,\n",
      "         4.8115734e-11],\n",
      "       [ 1.0000000e+00,  2.5000000e-02, -1.6870916e-10, -2.4748051e-01,\n",
      "        -4.8115623e-11],\n",
      "       [ 1.0000000e+00,  6.1152969e-02, -3.3333334e-01,  5.6622946e-03,\n",
      "        -4.8736792e-11],\n",
      "       [ 1.0000000e+00,  4.0087181e-01, -7.3828044e-10, -2.0388596e-02,\n",
      "        -4.8115623e-11],\n",
      "       [ 1.0000000e+00,  4.9375743e-01, -3.3333334e-01,  6.4193197e-03,\n",
      "        -4.8146376e-11]], dtype=float32),\n",
      " 1.0,\n",
      " True,\n",
      " {'TimeLimit.truncated': False,\n",
      "  'action': 1,\n",
      "  'crashed': True,\n",
      "  'rewards': {'on_road_reward': 1.0,\n",
      "              '~collision_penalty': -1,\n",
      "              '~lane change penalty': 0,\n",
      "              '~sudden aceleration penalty': 0,\n",
      "              '~target lane reward': 1,\n",
      "              '~target speed reward': 0},\n",
      "  'speed': 19.991182610784723}]\n",
      "[array([[ 1.0000000e+00,  1.0000000e+00,  6.6666669e-01,  2.4996048e-01,\n",
      "         4.8129278e-11],\n",
      "       [ 1.0000000e+00,  2.5000000e-02, -1.7072443e-10, -2.4909680e-01,\n",
      "        -4.8129278e-11],\n",
      "       [ 1.0000000e+00,  1.1307780e-01, -3.3333334e-01,  5.5803549e-03,\n",
      "        -4.8192561e-11],\n",
      "       [ 1.0000000e+00,  4.4268900e-01, -8.9969932e-10, -1.8860294e-02,\n",
      "        -4.8129278e-11],\n",
      "       [ 1.0000000e+00,  5.4588121e-01, -3.3333334e-01,  5.7926350e-03,\n",
      "        -4.8132498e-11]], dtype=float32),\n",
      " 1.0,\n",
      " True,\n",
      " {'TimeLimit.truncated': False,\n",
      "  'action': 1,\n",
      "  'crashed': True,\n",
      "  'rewards': {'on_road_reward': 1.0,\n",
      "              '~collision_penalty': -1,\n",
      "              '~lane change penalty': 0,\n",
      "              '~sudden aceleration penalty': 0,\n",
      "              '~target lane reward': 1,\n",
      "              '~target speed reward': 0},\n",
      "  'speed': 19.996839090093925}]\n",
      "[array([[ 1.0000000e+00,  1.0000000e+00,  6.6666669e-01,  2.4998583e-01,\n",
      "         4.8134385e-11],\n",
      "       [ 1.0000000e+00,  2.5000000e-02, -1.7146717e-10, -2.4967621e-01,\n",
      "        -4.8134274e-11],\n",
      "       [ 1.0000000e+00,  1.6372325e-01, -5.8479249e-01,  4.2877598e-03,\n",
      "        -3.1434048e-02],\n",
      "       [ 1.0000000e+00,  4.8529261e-01, -1.0605107e-09, -1.7502649e-02,\n",
      "        -4.8134274e-11],\n",
      "       [ 1.0000000e+00,  5.9796816e-01, -3.3333334e-01,  5.1937220e-03,\n",
      "        -4.8134496e-11]], dtype=float32),\n",
      " 1.0,\n",
      " True,\n",
      " {'TimeLimit.truncated': False,\n",
      "  'action': 1,\n",
      "  'crashed': True,\n",
      "  'rewards': {'on_road_reward': 1.0,\n",
      "              '~collision_penalty': -1,\n",
      "              '~lane change penalty': 0,\n",
      "              '~sudden aceleration penalty': 0,\n",
      "              '~target lane reward': 1,\n",
      "              '~target speed reward': 0},\n",
      "  'speed': 19.998866858296672}]\n",
      "[array([[ 1.0000000e+00,  1.0000000e+00,  6.6666669e-01,  2.4999492e-01,\n",
      "         4.8135940e-11],\n",
      "       [ 1.0000000e+00,  2.5000000e-02, -1.7175361e-10, -2.4988393e-01,\n",
      "        -4.8135940e-11],\n",
      "       [ 1.0000000e+00,  2.1643150e-01, -6.5779895e-01,  8.0877161e-03,\n",
      "        -3.8617691e-03],\n",
      "       [ 1.0000000e+00,  5.2848232e-01, -1.2211044e-09, -1.6306665e-02,\n",
      "        -4.8135940e-11],\n",
      "       [ 1.0000000e+00,  6.4989173e-01, -3.3333334e-01,  4.6032099e-03,\n",
      "        -4.8136051e-11]], dtype=float32),\n",
      " 1.0,\n",
      " True,\n",
      " {'TimeLimit.truncated': False,\n",
      "  'action': 1,\n",
      "  'crashed': True,\n",
      "  'rewards': {'on_road_reward': 1.0,\n",
      "              '~collision_penalty': -1,\n",
      "              '~lane change penalty': 0,\n",
      "              '~sudden aceleration penalty': 0,\n",
      "              '~target lane reward': 1,\n",
      "              '~target speed reward': 0},\n",
      "  'speed': 19.999593784651264}]\n",
      "[array([[ 1.0000000e+00,  1.0000000e+00,  6.6666669e-01,  2.4999818e-01,\n",
      "         4.8136606e-11],\n",
      "       [ 1.0000000e+00,  2.5000000e-02, -1.7187707e-10, -2.4995840e-01,\n",
      "        -4.8136606e-11],\n",
      "       [ 1.0000000e+00,  2.6990622e-01, -6.6577280e-01,  9.3053617e-03,\n",
      "        -3.9550554e-04],\n",
      "       [ 1.0000000e+00,  5.7214957e-01, -1.3816206e-09, -1.5251477e-02,\n",
      "        -4.8136606e-11],\n",
      "       [ 1.0000000e+00,  7.0160675e-01, -3.3333334e-01,  4.0182015e-03,\n",
      "        -4.8136606e-11]], dtype=float32),\n",
      " 1.0,\n",
      " True,\n",
      " {'TimeLimit.truncated': False,\n",
      "  'action': 1,\n",
      "  'crashed': True,\n",
      "  'rewards': {'on_road_reward': 1.0,\n",
      "              '~collision_penalty': -1,\n",
      "              '~lane change penalty': 0,\n",
      "              '~sudden aceleration penalty': 0,\n",
      "              '~target lane reward': 1,\n",
      "              '~target speed reward': 0},\n",
      "  'speed': 19.999854377516012}]\n",
      "[array([[ 1.0000000e+00,  1.0000000e+00,  6.6666669e-01,  2.4999934e-01,\n",
      "         4.8136828e-11],\n",
      "       [ 1.0000000e+00,  2.5000000e-02, -1.7194102e-10, -2.4998508e-01,\n",
      "        -4.8136828e-11],\n",
      "       [ 1.0000000e+00,  3.2377738e-01, -6.6657776e-01,  1.0060628e-02,\n",
      "        -3.9452818e-05],\n",
      "       [ 1.0000000e+00,  6.1622506e-01, -1.5421079e-09, -1.4315509e-02,\n",
      "        -4.8136828e-11],\n",
      "       [ 1.0000000e+00,  7.5309873e-01, -3.3333334e-01,  3.4408618e-03,\n",
      "        -4.8136939e-11]], dtype=float32),\n",
      " 1.0,\n",
      " True,\n",
      " {'TimeLimit.truncated': False,\n",
      "  'action': 1,\n",
      "  'crashed': True,\n",
      "  'rewards': {'on_road_reward': 1.0,\n",
      "              '~collision_penalty': -1,\n",
      "              '~lane change penalty': 0,\n",
      "              '~sudden aceleration penalty': 0,\n",
      "              '~target lane reward': 1,\n",
      "              '~target speed reward': 0},\n",
      "  'speed': 19.999947796389506}]\n",
      "[array([[ 1.0000000e+00,  1.0000000e+00,  6.6666669e-01,  2.4999976e-01,\n",
      "         4.8137050e-11],\n",
      "       [ 1.0000000e+00,  2.5000000e-02, -1.7198520e-10, -2.4999465e-01,\n",
      "        -4.8136939e-11],\n",
      "       [ 1.0000000e+00,  3.7790143e-01, -6.6665787e-01,  1.0562548e-02,\n",
      "        -3.9107836e-06],\n",
      "       [ 1.0000000e+00,  6.6065878e-01, -1.7025866e-09, -1.3479778e-02,\n",
      "        -4.8136939e-11],\n",
      "       [ 1.0000000e+00,  8.0436510e-01, -3.3333334e-01,  2.8745448e-03,\n",
      "        -4.8136939e-11]], dtype=float32),\n",
      " 1.0,\n",
      " True,\n",
      " {'TimeLimit.truncated': False,\n",
      "  'action': 1,\n",
      "  'crashed': True,\n",
      "  'rewards': {'on_road_reward': 1.0,\n",
      "              '~collision_penalty': -1,\n",
      "              '~lane change penalty': 0,\n",
      "              '~sudden aceleration penalty': 0,\n",
      "              '~target lane reward': 1,\n",
      "              '~target speed reward': 0},\n",
      "  'speed': 19.999981285740535}]\n",
      "[array([[ 1.00000000e+00,  1.00000000e+00,  6.66666687e-01,\n",
      "         2.49999911e-01,  4.81370499e-11],\n",
      "       [ 1.00000000e+00,  2.50000004e-02, -1.72022840e-10,\n",
      "        -2.49998078e-01, -4.81369389e-11],\n",
      "       [ 1.00000000e+00,  4.32196438e-01, -6.66665792e-01,\n",
      "         1.09143825e-02, -3.86641204e-07],\n",
      "       [ 1.00000000e+00,  7.05411553e-01, -1.86306215e-09,\n",
      "        -1.27284611e-02, -4.81369389e-11],\n",
      "       [ 1.00000000e+00,  8.55408847e-01, -3.33333343e-01,\n",
      "         2.32254597e-03, -4.81369389e-11]], dtype=float32),\n",
      " 1.0,\n",
      " True,\n",
      " {'TimeLimit.truncated': False,\n",
      "  'action': 1,\n",
      "  'crashed': True,\n",
      "  'rewards': {'on_road_reward': 1.0,\n",
      "              '~collision_penalty': -1,\n",
      "              '~lane change penalty': 0,\n",
      "              '~sudden aceleration penalty': 0,\n",
      "              '~target lane reward': 1,\n",
      "              '~target speed reward': 0},\n",
      "  'speed': 19.999993291201438}]\n",
      "[array([[ 1.0000000e+00,  1.0000000e+00,  6.6666669e-01,  2.4999997e-01,\n",
      "         4.8137050e-11],\n",
      "       [ 1.0000000e+00,  2.5000000e-02, -1.7205537e-10, -2.4999931e-01,\n",
      "        -4.8136939e-11],\n",
      "       [ 1.0000000e+00,  4.8661372e-01, -6.6666657e-01,  1.1174180e-02,\n",
      "        -3.8198142e-08],\n",
      "       [ 1.0000000e+00,  7.5045127e-01, -2.0235356e-09, -1.2048626e-02,\n",
      "        -4.8136939e-11],\n",
      "       [ 1.0000000e+00,  9.0623540e-01, -3.3333334e-01,  1.7877482e-03,\n",
      "        -4.8136939e-11]], dtype=float32),\n",
      " 1.0,\n",
      " True,\n",
      " {'TimeLimit.truncated': False,\n",
      "  'action': 1,\n",
      "  'crashed': True,\n",
      "  'rewards': {'on_road_reward': 1.0,\n",
      "              '~collision_penalty': -1,\n",
      "              '~lane change penalty': 0,\n",
      "              '~sudden aceleration penalty': 0,\n",
      "              '~target lane reward': 1,\n",
      "              '~target speed reward': 0},\n",
      "  'speed': 19.999997594990155}]\n"
     ]
    }
   ],
   "source": [
    "from pprint import pprint\n",
    "\n",
    "\n",
    "for i in range(10):\n",
    "    action = env.action_space.sample()\n",
    "    obs, reward, terminated, info = env.step(action)\n",
    "    pprint([obs, reward, terminated, info])\n"
   ]
  },
  {
   "cell_type": "code",
   "execution_count": 1,
   "metadata": {},
   "outputs": [
    {
     "name": "stderr",
     "output_type": "stream",
     "text": [
      "c:\\ProgramData\\Anaconda3\\envs\\HighwayEnv\\lib\\site-packages\\gym\\core.py:330: DeprecationWarning: \u001b[33mWARN: Initializing wrapper in old step API which returns one bool instead of two. It is recommended to set `new_step_api=True` to use new step API. This will be the default behaviour in future.\u001b[0m\n",
      "  \"Initializing wrapper in old step API which returns one bool instead of two. It is recommended to set `new_step_api=True` to use new step API. This will be the default behaviour in future.\"\n",
      "c:\\ProgramData\\Anaconda3\\envs\\HighwayEnv\\lib\\site-packages\\torch\\utils\\tensorboard\\__init__.py:5: DeprecationWarning: distutils Version classes are deprecated. Use packaging.version instead.\n",
      "  tensorboard.__version__\n",
      "c:\\ProgramData\\Anaconda3\\envs\\HighwayEnv\\lib\\site-packages\\gym\\utils\\passive_env_checker.py:32: UserWarning: \u001b[33mWARN: A Box observation space has an unconventional shape (neither an image, nor a 1D vector). We recommend flattening the observation to have only a 1D vector or use a custom policy to properly process the data. Actual observation shape: (5, 5)\u001b[0m\n",
      "  \"A Box observation space has an unconventional shape (neither an image, nor a 1D vector). \"\n",
      "c:\\ProgramData\\Anaconda3\\envs\\HighwayEnv\\lib\\site-packages\\gym\\core.py:330: DeprecationWarning: \u001b[33mWARN: Initializing wrapper in old step API which returns one bool instead of two. It is recommended to set `new_step_api=True` to use new step API. This will be the default behaviour in future.\u001b[0m\n",
      "  \"Initializing wrapper in old step API which returns one bool instead of two. It is recommended to set `new_step_api=True` to use new step API. This will be the default behaviour in future.\"\n",
      "c:\\ProgramData\\Anaconda3\\envs\\HighwayEnv\\lib\\site-packages\\gym\\wrappers\\step_api_compatibility.py:40: DeprecationWarning: \u001b[33mWARN: Initializing environment in old step API which returns one bool instead of two. It is recommended to set `new_step_api=True` to use new step API. This will be the default behaviour in future.\u001b[0m\n",
      "  \"Initializing environment in old step API which returns one bool instead of two. It is recommended to set `new_step_api=True` to use new step API. This will be the default behaviour in future.\"\n"
     ]
    }
   ],
   "source": [
    "TRAIN = True\n",
    "\n",
    "# Create the model\n",
    "model = DQN('MlpPolicy', env,\n",
    "            policy_kwargs=dict(net_arch=[256, 256]),\n",
    "            learning_rate=5e-4,\n",
    "            buffer_size=15000,\n",
    "            learning_starts=200,\n",
    "            batch_size=32,\n",
    "            gamma=0.8,\n",
    "            train_freq=1,\n",
    "            gradient_steps=1,\n",
    "            target_update_interval=50,\n",
    "            verbose=1,\n",
    "            tensorboard_log=\"highway_dqn/\")\n",
    "\n",
    "# Train the model\n",
    "if TRAIN:\n",
    "    model.learn(total_timesteps=int(2e4))\n",
    "    model.save(\"highway_dqn/model\")\n",
    "    #del model"
   ]
  }
 ],
 "metadata": {
  "kernelspec": {
   "display_name": "Python 3.7.13 ('HighwayEnv')",
   "language": "python",
   "name": "python3"
  },
  "language_info": {
   "codemirror_mode": {
    "name": "ipython",
    "version": 3
   },
   "file_extension": ".py",
   "mimetype": "text/x-python",
   "name": "python",
   "nbconvert_exporter": "python",
   "pygments_lexer": "ipython3",
   "version": "3.7.13"
  },
  "orig_nbformat": 4,
  "vscode": {
   "interpreter": {
    "hash": "4299a72b06457e31910ea8504700d47f8bc36cfd064168ad296e1182d4a1645a"
   }
  }
 },
 "nbformat": 4,
 "nbformat_minor": 2
}
